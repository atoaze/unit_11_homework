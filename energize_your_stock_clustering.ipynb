{
 "cells": [
  {
   "cell_type": "markdown",
   "metadata": {},
   "source": [
    "# Energize Your Stock Clustering\n",
    "\n",
    "In this activity, you’ll use the K-means algorithm and clustering optimization techniques to cluster stocks. The purpose will be to define a portfolio investment strategy.\n",
    "\n",
    "Instructions\n",
    "\n",
    "1. Read in the `tsx-energy-2018.csv` file from the `Resources` folder and create the DataFrame. Make sure to set the `Ticker` column as the DataFrame’s index. Then review the DataFrame.\n",
    "\n",
    "    > **Note:** This step has been completed for you. Be sure to run these cells before moving on to Step 3. \n",
    "\n",
    "2. Review the four code cells that are included in this step in the notebook. These cells contain the code that scales the `df_stocks` DataFrame and creates a new DataFrame that contains the scaled data. \n",
    "\n",
    "    > **Note:** This step has been completed for you. Be sure to run these cells before moving on to Step 3. \n",
    "\n",
    "3. Using the `df_stocks_scaled` DataFrame, cluster the data by using the K-means algorithm and a lowercase-k value of  3. Add the resulting list of company segment values as a new column in the `df_stocks_scaled` DataFrame. \n",
    "\n",
    "    > **Rewind** You can use a lowercase-k value of 3 to start, or you can use the elbow method to find the optimal value for lowercase-k.\n",
    "\n",
    "4. Using hvPlot, create a scatter plot to visualize the clusters setting `x=\"AnnualVariance\"`,  `y=\"Annual Return\"`, and `by=\"StockCluster\"`. Be sure to style and format your plot.\n",
    "\n",
    "    > **Rewind** Remember that you can style your plot using hvPlot’s customization parameters. For example, you can add the ticker symbol to the tooltip of each point by using hvPlot’s `hover_cols` parameter. For a refresher on customizing `hvplot`, refer to [Customization](https://hvplot.holoviz.org/user_guide/Customization.html) in the hvPlot user guide.\n",
    "\n",
    "5. To get another perspective on the clusters, reduce the number of features to two principal components by using PCA. Make sure to do the following: \n",
    "\n",
    "    - Use the `df_stocks_scaled` DataFrame to complete this analysis. \n",
    "\n",
    "    - Review the PCA data. \n",
    "\n",
    "    - Calculate the explained variance ratio that results from the PCA data. \n",
    "    \n",
    "\n",
    "6. Using the PCA data calculated in the previous step, create a new DataFrame called `df_stocks_pca`. Make sure to do the following: \n",
    "\n",
    "    - Add an additional column to the DataFrame that contains the tickers from the original `df_stocks` DataFrame. \n",
    "\n",
    "    - Set the new Tickers column as the index. \n",
    "\n",
    "    - Review the DataFrame.\n",
    "    \n",
    "\n",
    "7. Rerun the K-means algorithm with the new principal-components data, and then create a scatter plot by using the two principal components for the x and y axes, and by using `StockCluster`. Be sure to style and format your plot.\n",
    "\n",
    "\n",
    "8. **Optional Challenge:** Find the best `k` with `PCA`.\n",
    " \n",
    " * Code the elbow method algorithm and use the PCA data to find the best value for k. Use a range from 1 to 11.\n",
    "\n",
    " * Plot a line chart with all the inertia values computed with the different values of k to visually identify the optimal value for k.\n",
    "\n",
    " * Answer the following question: What is the best value for k when using the PCA data? Does it differ from the best k value found using the original data?\n",
    "\n",
    "\n",
    "References\n",
    "\n",
    "[scikit-learn PCA](https://scikit-learn.org/stable/modules/generated/sklearn.decomposition.PCA.html)\n",
    "\n",
    "[scikit-learn StandardScaler](https://scikit-learn.org/stable/modules/generated/sklearn.preprocessing.StandardScaler.html)\n",
    "\n",
    "[scikit-learn Preprocessing Data](https://scikit-learn.org/stable/modules/preprocessing.html#preprocessing-scaler)\n",
    "\n",
    "[scikit-learn Python Library](https://scikit-learn.org)\n",
    "\n",
    "[HvPlot Customization](https://hvplot.holoviz.org/user_guide/Customization.html)"
   ]
  },
  {
   "cell_type": "code",
   "execution_count": 8,
   "metadata": {
    "tags": []
   },
   "outputs": [
    {
     "ename": "ModuleNotFoundError",
     "evalue": "No module named 'Pathlib'",
     "output_type": "error",
     "traceback": [
      "\u001b[0;31m---------------------------------------------------------------------------\u001b[0m",
      "\u001b[0;31mModuleNotFoundError\u001b[0m                       Traceback (most recent call last)",
      "Cell \u001b[0;32mIn[8], line 4\u001b[0m\n\u001b[1;32m      2\u001b[0m \u001b[38;5;28;01mimport\u001b[39;00m \u001b[38;5;21;01mpandas\u001b[39;00m \u001b[38;5;28;01mas\u001b[39;00m \u001b[38;5;21;01mpd\u001b[39;00m\n\u001b[1;32m      3\u001b[0m \u001b[38;5;28;01mimport\u001b[39;00m \u001b[38;5;21;01mhvplot\u001b[39;00m\u001b[38;5;21;01m.\u001b[39;00m\u001b[38;5;21;01mpandas\u001b[39;00m\n\u001b[0;32m----> 4\u001b[0m \u001b[38;5;28;01mfrom\u001b[39;00m \u001b[38;5;21;01mPathlib\u001b[39;00m \u001b[38;5;28;01mimport\u001b[39;00m path\n\u001b[1;32m      5\u001b[0m \u001b[38;5;28;01mfrom\u001b[39;00m \u001b[38;5;21;01msklearn\u001b[39;00m\u001b[38;5;21;01m.\u001b[39;00m\u001b[38;5;21;01mcluster\u001b[39;00m \u001b[38;5;28;01mimport\u001b[39;00m KMeans\n\u001b[1;32m      6\u001b[0m \u001b[38;5;28;01mfrom\u001b[39;00m \u001b[38;5;21;01msklearn\u001b[39;00m\u001b[38;5;21;01m.\u001b[39;00m\u001b[38;5;21;01mdecomposition\u001b[39;00m \u001b[38;5;28;01mimport\u001b[39;00m PCA\n",
      "\u001b[0;31mModuleNotFoundError\u001b[0m: No module named 'Pathlib'"
     ]
    }
   ],
   "source": [
    "# Import the required libraries and dependencies\n",
    "import pandas as pd\n",
    "import hvplot.pandas\n",
    "from  import path\n",
    "from sklearn.cluster import KMeans\n",
    "from sklearn.decomposition import PCA\n",
    "from sklearn.preprocessing import StandardScaler"
   ]
  },
  {
   "cell_type": "markdown",
   "metadata": {},
   "source": [
    "## Step 1: Read in the `tsx-energy-2018.csv` file from the `Resources` folder and create the DataFrame. Make sure to set the `Ticker` column as the DataFrame’s index. Then review the DataFrame.\n",
    "\n",
    "    > **Note:** This step has been completed for you. Be sure to run these cells before moving on to Step 3."
   ]
  },
  {
   "cell_type": "code",
   "execution_count": null,
   "metadata": {
    "tags": []
   },
   "outputs": [],
   "source": [
    "# Read the CSV file into a Pandas DataFrame\n",
    "# Set the index using the Ticker column\n",
    "df_stocks = pd.read_csv(\n",
    "    Path(\"/Users/annatoaze/Documents/FinTech_Bootcamp/Activities - Repeat/9-04-Stu-Energize_Your_Stock_Clustering/Resources/tsx-energy-2018.csv\"),                \n",
    "    index_col=\"Ticker\"\n",
    ")\n",
    "\n",
    "# Review the DataFrame\n",
    "df_stocks.head()"
   ]
  },
  {
   "cell_type": "code",
   "execution_count": 3,
   "metadata": {},
   "outputs": [
    {
     "data": {
      "text/plain": [
       "(24, 9)"
      ]
     },
     "execution_count": 3,
     "metadata": {},
     "output_type": "execute_result"
    }
   ],
   "source": [
    "df_stocks.shape"
   ]
  },
  {
   "cell_type": "markdown",
   "metadata": {},
   "source": [
    "## Step 2: Review the four code cells that are included in this step in the notebook. These cells contain the code that scales the `df_stocks` DataFrame and creates a new DataFrame that contains the scaled data. \n",
    "\n",
    "    > **Note:** This step has been completed for you. Be sure to run these cells before moving on to Step 3. \n"
   ]
  },
  {
   "cell_type": "code",
   "execution_count": 4,
   "metadata": {},
   "outputs": [],
   "source": [
    "# Scale price data, return, and variance values\n",
    "stock_data_scaled = StandardScaler().fit_transform(\n",
    "    df_stocks[[\"MeanOpen\", \"MeanHigh\", \"MeanLow\", \"MeanClose\", \"MeanVolume\", \"AnnualReturn\", \"AnnualVariance\"]]\n",
    ")"
   ]
  },
  {
   "cell_type": "code",
   "execution_count": 5,
   "metadata": {},
   "outputs": [
    {
     "data": {
      "text/html": [
       "<div>\n",
       "<style scoped>\n",
       "    .dataframe tbody tr th:only-of-type {\n",
       "        vertical-align: middle;\n",
       "    }\n",
       "\n",
       "    .dataframe tbody tr th {\n",
       "        vertical-align: top;\n",
       "    }\n",
       "\n",
       "    .dataframe thead th {\n",
       "        text-align: right;\n",
       "    }\n",
       "</style>\n",
       "<table border=\"1\" class=\"dataframe\">\n",
       "  <thead>\n",
       "    <tr style=\"text-align: right;\">\n",
       "      <th></th>\n",
       "      <th>MeanOpen</th>\n",
       "      <th>MeanHigh</th>\n",
       "      <th>MeanLow</th>\n",
       "      <th>MeanClose</th>\n",
       "      <th>MeanVolume</th>\n",
       "      <th>AnnualReturn</th>\n",
       "      <th>AnnualVariance</th>\n",
       "    </tr>\n",
       "    <tr>\n",
       "      <th>Ticker</th>\n",
       "      <th></th>\n",
       "      <th></th>\n",
       "      <th></th>\n",
       "      <th></th>\n",
       "      <th></th>\n",
       "      <th></th>\n",
       "      <th></th>\n",
       "    </tr>\n",
       "  </thead>\n",
       "  <tbody>\n",
       "    <tr>\n",
       "      <th>ARX</th>\n",
       "      <td>-0.916832</td>\n",
       "      <td>-0.917217</td>\n",
       "      <td>-0.918045</td>\n",
       "      <td>-0.918135</td>\n",
       "      <td>-0.152786</td>\n",
       "      <td>-1.332445</td>\n",
       "      <td>0.460854</td>\n",
       "    </tr>\n",
       "    <tr>\n",
       "      <th>CCO</th>\n",
       "      <td>-0.880152</td>\n",
       "      <td>-0.879472</td>\n",
       "      <td>-0.879062</td>\n",
       "      <td>-0.878786</td>\n",
       "      <td>-0.379117</td>\n",
       "      <td>1.695742</td>\n",
       "      <td>0.559411</td>\n",
       "    </tr>\n",
       "    <tr>\n",
       "      <th>CNQ</th>\n",
       "      <td>0.971524</td>\n",
       "      <td>0.977848</td>\n",
       "      <td>0.968315</td>\n",
       "      <td>0.971255</td>\n",
       "      <td>1.272074</td>\n",
       "      <td>-0.089092</td>\n",
       "      <td>-0.154415</td>\n",
       "    </tr>\n",
       "    <tr>\n",
       "      <th>CVE</th>\n",
       "      <td>-0.994122</td>\n",
       "      <td>-0.992707</td>\n",
       "      <td>-0.994689</td>\n",
       "      <td>-0.993553</td>\n",
       "      <td>2.376902</td>\n",
       "      <td>-0.010201</td>\n",
       "      <td>1.331607</td>\n",
       "    </tr>\n",
       "    <tr>\n",
       "      <th>CPG</th>\n",
       "      <td>-1.218785</td>\n",
       "      <td>-1.221130</td>\n",
       "      <td>-1.218673</td>\n",
       "      <td>-1.219807</td>\n",
       "      <td>1.846798</td>\n",
       "      <td>-2.254365</td>\n",
       "      <td>1.424424</td>\n",
       "    </tr>\n",
       "  </tbody>\n",
       "</table>\n",
       "</div>"
      ],
      "text/plain": [
       "        MeanOpen  MeanHigh   MeanLow  MeanClose  MeanVolume  AnnualReturn  \\\n",
       "Ticker                                                                      \n",
       "ARX    -0.916832 -0.917217 -0.918045  -0.918135   -0.152786     -1.332445   \n",
       "CCO    -0.880152 -0.879472 -0.879062  -0.878786   -0.379117      1.695742   \n",
       "CNQ     0.971524  0.977848  0.968315   0.971255    1.272074     -0.089092   \n",
       "CVE    -0.994122 -0.992707 -0.994689  -0.993553    2.376902     -0.010201   \n",
       "CPG    -1.218785 -1.221130 -1.218673  -1.219807    1.846798     -2.254365   \n",
       "\n",
       "        AnnualVariance  \n",
       "Ticker                  \n",
       "ARX           0.460854  \n",
       "CCO           0.559411  \n",
       "CNQ          -0.154415  \n",
       "CVE           1.331607  \n",
       "CPG           1.424424  "
      ]
     },
     "execution_count": 5,
     "metadata": {},
     "output_type": "execute_result"
    }
   ],
   "source": [
    "# Create a DataFrame with the scaled data\n",
    "df_stocks_scaled = pd.DataFrame(\n",
    "    stock_data_scaled,\n",
    "    columns=[\"MeanOpen\", \"MeanHigh\", \"MeanLow\", \"MeanClose\", \"MeanVolume\", \"AnnualReturn\", \"AnnualVariance\"]\n",
    ")\n",
    "\n",
    "# Copy the tickers names from the original data\n",
    "df_stocks_scaled[\"Ticker\"] = df_stocks.index\n",
    "\n",
    "# Set the Ticker column as index\n",
    "df_stocks_scaled = df_stocks_scaled.set_index(\"Ticker\")\n",
    "\n",
    "# Display sample data\n",
    "df_stocks_scaled.head()"
   ]
  },
  {
   "cell_type": "code",
   "execution_count": 6,
   "metadata": {},
   "outputs": [
    {
     "data": {
      "text/html": [
       "<div>\n",
       "<style scoped>\n",
       "    .dataframe tbody tr th:only-of-type {\n",
       "        vertical-align: middle;\n",
       "    }\n",
       "\n",
       "    .dataframe tbody tr th {\n",
       "        vertical-align: top;\n",
       "    }\n",
       "\n",
       "    .dataframe thead th {\n",
       "        text-align: right;\n",
       "    }\n",
       "</style>\n",
       "<table border=\"1\" class=\"dataframe\">\n",
       "  <thead>\n",
       "    <tr style=\"text-align: right;\">\n",
       "      <th></th>\n",
       "      <th>Oil</th>\n",
       "      <th>Other Energy</th>\n",
       "    </tr>\n",
       "    <tr>\n",
       "      <th>Ticker</th>\n",
       "      <th></th>\n",
       "      <th></th>\n",
       "    </tr>\n",
       "  </thead>\n",
       "  <tbody>\n",
       "    <tr>\n",
       "      <th>ARX</th>\n",
       "      <td>1</td>\n",
       "      <td>0</td>\n",
       "    </tr>\n",
       "    <tr>\n",
       "      <th>CCO</th>\n",
       "      <td>0</td>\n",
       "      <td>1</td>\n",
       "    </tr>\n",
       "    <tr>\n",
       "      <th>CNQ</th>\n",
       "      <td>1</td>\n",
       "      <td>0</td>\n",
       "    </tr>\n",
       "    <tr>\n",
       "      <th>CVE</th>\n",
       "      <td>1</td>\n",
       "      <td>0</td>\n",
       "    </tr>\n",
       "    <tr>\n",
       "      <th>CPG</th>\n",
       "      <td>0</td>\n",
       "      <td>1</td>\n",
       "    </tr>\n",
       "  </tbody>\n",
       "</table>\n",
       "</div>"
      ],
      "text/plain": [
       "        Oil  Other Energy\n",
       "Ticker                   \n",
       "ARX       1             0\n",
       "CCO       0             1\n",
       "CNQ       1             0\n",
       "CVE       1             0\n",
       "CPG       0             1"
      ]
     },
     "execution_count": 6,
     "metadata": {},
     "output_type": "execute_result"
    }
   ],
   "source": [
    "# Encode (convert to dummy variables) the `EnergyType` column, which categorizes oil versus non-oil firms\n",
    "oil_dummies = pd.get_dummies(df_stocks[\"EnergyType\"])\n",
    "oil_dummies.head()"
   ]
  },
  {
   "cell_type": "code",
   "execution_count": 7,
   "metadata": {},
   "outputs": [
    {
     "data": {
      "text/html": [
       "<div>\n",
       "<style scoped>\n",
       "    .dataframe tbody tr th:only-of-type {\n",
       "        vertical-align: middle;\n",
       "    }\n",
       "\n",
       "    .dataframe tbody tr th {\n",
       "        vertical-align: top;\n",
       "    }\n",
       "\n",
       "    .dataframe thead th {\n",
       "        text-align: right;\n",
       "    }\n",
       "</style>\n",
       "<table border=\"1\" class=\"dataframe\">\n",
       "  <thead>\n",
       "    <tr style=\"text-align: right;\">\n",
       "      <th></th>\n",
       "      <th>MeanOpen</th>\n",
       "      <th>MeanHigh</th>\n",
       "      <th>MeanLow</th>\n",
       "      <th>MeanClose</th>\n",
       "      <th>MeanVolume</th>\n",
       "      <th>AnnualReturn</th>\n",
       "      <th>AnnualVariance</th>\n",
       "      <th>Oil</th>\n",
       "      <th>Other Energy</th>\n",
       "    </tr>\n",
       "    <tr>\n",
       "      <th>Ticker</th>\n",
       "      <th></th>\n",
       "      <th></th>\n",
       "      <th></th>\n",
       "      <th></th>\n",
       "      <th></th>\n",
       "      <th></th>\n",
       "      <th></th>\n",
       "      <th></th>\n",
       "      <th></th>\n",
       "    </tr>\n",
       "  </thead>\n",
       "  <tbody>\n",
       "    <tr>\n",
       "      <th>ARX</th>\n",
       "      <td>-0.916832</td>\n",
       "      <td>-0.917217</td>\n",
       "      <td>-0.918045</td>\n",
       "      <td>-0.918135</td>\n",
       "      <td>-0.152786</td>\n",
       "      <td>-1.332445</td>\n",
       "      <td>0.460854</td>\n",
       "      <td>1</td>\n",
       "      <td>0</td>\n",
       "    </tr>\n",
       "    <tr>\n",
       "      <th>CCO</th>\n",
       "      <td>-0.880152</td>\n",
       "      <td>-0.879472</td>\n",
       "      <td>-0.879062</td>\n",
       "      <td>-0.878786</td>\n",
       "      <td>-0.379117</td>\n",
       "      <td>1.695742</td>\n",
       "      <td>0.559411</td>\n",
       "      <td>0</td>\n",
       "      <td>1</td>\n",
       "    </tr>\n",
       "    <tr>\n",
       "      <th>CNQ</th>\n",
       "      <td>0.971524</td>\n",
       "      <td>0.977848</td>\n",
       "      <td>0.968315</td>\n",
       "      <td>0.971255</td>\n",
       "      <td>1.272074</td>\n",
       "      <td>-0.089092</td>\n",
       "      <td>-0.154415</td>\n",
       "      <td>1</td>\n",
       "      <td>0</td>\n",
       "    </tr>\n",
       "    <tr>\n",
       "      <th>CVE</th>\n",
       "      <td>-0.994122</td>\n",
       "      <td>-0.992707</td>\n",
       "      <td>-0.994689</td>\n",
       "      <td>-0.993553</td>\n",
       "      <td>2.376902</td>\n",
       "      <td>-0.010201</td>\n",
       "      <td>1.331607</td>\n",
       "      <td>1</td>\n",
       "      <td>0</td>\n",
       "    </tr>\n",
       "    <tr>\n",
       "      <th>CPG</th>\n",
       "      <td>-1.218785</td>\n",
       "      <td>-1.221130</td>\n",
       "      <td>-1.218673</td>\n",
       "      <td>-1.219807</td>\n",
       "      <td>1.846798</td>\n",
       "      <td>-2.254365</td>\n",
       "      <td>1.424424</td>\n",
       "      <td>0</td>\n",
       "      <td>1</td>\n",
       "    </tr>\n",
       "  </tbody>\n",
       "</table>\n",
       "</div>"
      ],
      "text/plain": [
       "        MeanOpen  MeanHigh   MeanLow  MeanClose  MeanVolume  AnnualReturn  \\\n",
       "Ticker                                                                      \n",
       "ARX    -0.916832 -0.917217 -0.918045  -0.918135   -0.152786     -1.332445   \n",
       "CCO    -0.880152 -0.879472 -0.879062  -0.878786   -0.379117      1.695742   \n",
       "CNQ     0.971524  0.977848  0.968315   0.971255    1.272074     -0.089092   \n",
       "CVE    -0.994122 -0.992707 -0.994689  -0.993553    2.376902     -0.010201   \n",
       "CPG    -1.218785 -1.221130 -1.218673  -1.219807    1.846798     -2.254365   \n",
       "\n",
       "        AnnualVariance  Oil  Other Energy  \n",
       "Ticker                                     \n",
       "ARX           0.460854    1             0  \n",
       "CCO           0.559411    0             1  \n",
       "CNQ          -0.154415    1             0  \n",
       "CVE           1.331607    1             0  \n",
       "CPG           1.424424    0             1  "
      ]
     },
     "execution_count": 7,
     "metadata": {},
     "output_type": "execute_result"
    }
   ],
   "source": [
    "# Concatenate the `EnergyType` encoded dummies with the scaled data DataFrame\n",
    "df_stocks_scaled = pd.concat([df_stocks_scaled, oil_dummies], axis=1)\n",
    "\n",
    "# Display the sample data\n",
    "df_stocks_scaled.head()"
   ]
  },
  {
   "cell_type": "markdown",
   "metadata": {},
   "source": [
    "## Step 3: Using the `df_stocks_scaled` DataFrame, cluster the data by using the K-means algorithm and a lowercase-k value of  3. Add the resulting list of company segment values as a new column in the `df_stocks_scaled` DataFrame. \n",
    "\n",
    "> **Rewind** You can use a lowercase-k value of 3 to start, or you can use the elbow method to find the optimal value for lowercase-k."
   ]
  },
  {
   "cell_type": "code",
   "execution_count": 8,
   "metadata": {},
   "outputs": [],
   "source": [
    "# Initialize the K-Means model with n_clusters=3\n",
    "model = KMeans(n_clusters=3)"
   ]
  },
  {
   "cell_type": "code",
   "execution_count": 9,
   "metadata": {},
   "outputs": [
    {
     "data": {
      "text/plain": [
       "KMeans(n_clusters=3)"
      ]
     },
     "execution_count": 9,
     "metadata": {},
     "output_type": "execute_result"
    }
   ],
   "source": [
    "# Fit the model for the df_stocks_scaled DataFrame\n",
    "model.fit(df_stocks_scaled)"
   ]
  },
  {
   "cell_type": "code",
   "execution_count": 10,
   "metadata": {},
   "outputs": [
    {
     "name": "stdout",
     "output_type": "stream",
     "text": [
      "[2 1 0 2 2 0 2 1 1 0 1 1 2 1 2 1 0 1 2 0 0 0 0 2]\n"
     ]
    }
   ],
   "source": [
    "# Predict the model segments (clusters)\n",
    "stock_clusters = model.predict(df_stocks_scaled)\n",
    "\n",
    "# View the stock segments\n",
    "print(stock_clusters)"
   ]
  },
  {
   "cell_type": "code",
   "execution_count": 11,
   "metadata": {},
   "outputs": [
    {
     "data": {
      "text/html": [
       "<div>\n",
       "<style scoped>\n",
       "    .dataframe tbody tr th:only-of-type {\n",
       "        vertical-align: middle;\n",
       "    }\n",
       "\n",
       "    .dataframe tbody tr th {\n",
       "        vertical-align: top;\n",
       "    }\n",
       "\n",
       "    .dataframe thead th {\n",
       "        text-align: right;\n",
       "    }\n",
       "</style>\n",
       "<table border=\"1\" class=\"dataframe\">\n",
       "  <thead>\n",
       "    <tr style=\"text-align: right;\">\n",
       "      <th></th>\n",
       "      <th>MeanOpen</th>\n",
       "      <th>MeanHigh</th>\n",
       "      <th>MeanLow</th>\n",
       "      <th>MeanClose</th>\n",
       "      <th>MeanVolume</th>\n",
       "      <th>AnnualReturn</th>\n",
       "      <th>AnnualVariance</th>\n",
       "      <th>Oil</th>\n",
       "      <th>Other Energy</th>\n",
       "      <th>StockCluster</th>\n",
       "    </tr>\n",
       "    <tr>\n",
       "      <th>Ticker</th>\n",
       "      <th></th>\n",
       "      <th></th>\n",
       "      <th></th>\n",
       "      <th></th>\n",
       "      <th></th>\n",
       "      <th></th>\n",
       "      <th></th>\n",
       "      <th></th>\n",
       "      <th></th>\n",
       "      <th></th>\n",
       "    </tr>\n",
       "  </thead>\n",
       "  <tbody>\n",
       "    <tr>\n",
       "      <th>ARX</th>\n",
       "      <td>-0.916832</td>\n",
       "      <td>-0.917217</td>\n",
       "      <td>-0.918045</td>\n",
       "      <td>-0.918135</td>\n",
       "      <td>-0.152786</td>\n",
       "      <td>-1.332445</td>\n",
       "      <td>0.460854</td>\n",
       "      <td>1</td>\n",
       "      <td>0</td>\n",
       "      <td>2</td>\n",
       "    </tr>\n",
       "    <tr>\n",
       "      <th>CCO</th>\n",
       "      <td>-0.880152</td>\n",
       "      <td>-0.879472</td>\n",
       "      <td>-0.879062</td>\n",
       "      <td>-0.878786</td>\n",
       "      <td>-0.379117</td>\n",
       "      <td>1.695742</td>\n",
       "      <td>0.559411</td>\n",
       "      <td>0</td>\n",
       "      <td>1</td>\n",
       "      <td>1</td>\n",
       "    </tr>\n",
       "    <tr>\n",
       "      <th>CNQ</th>\n",
       "      <td>0.971524</td>\n",
       "      <td>0.977848</td>\n",
       "      <td>0.968315</td>\n",
       "      <td>0.971255</td>\n",
       "      <td>1.272074</td>\n",
       "      <td>-0.089092</td>\n",
       "      <td>-0.154415</td>\n",
       "      <td>1</td>\n",
       "      <td>0</td>\n",
       "      <td>0</td>\n",
       "    </tr>\n",
       "    <tr>\n",
       "      <th>CVE</th>\n",
       "      <td>-0.994122</td>\n",
       "      <td>-0.992707</td>\n",
       "      <td>-0.994689</td>\n",
       "      <td>-0.993553</td>\n",
       "      <td>2.376902</td>\n",
       "      <td>-0.010201</td>\n",
       "      <td>1.331607</td>\n",
       "      <td>1</td>\n",
       "      <td>0</td>\n",
       "      <td>2</td>\n",
       "    </tr>\n",
       "    <tr>\n",
       "      <th>CPG</th>\n",
       "      <td>-1.218785</td>\n",
       "      <td>-1.221130</td>\n",
       "      <td>-1.218673</td>\n",
       "      <td>-1.219807</td>\n",
       "      <td>1.846798</td>\n",
       "      <td>-2.254365</td>\n",
       "      <td>1.424424</td>\n",
       "      <td>0</td>\n",
       "      <td>1</td>\n",
       "      <td>2</td>\n",
       "    </tr>\n",
       "  </tbody>\n",
       "</table>\n",
       "</div>"
      ],
      "text/plain": [
       "        MeanOpen  MeanHigh   MeanLow  MeanClose  MeanVolume  AnnualReturn  \\\n",
       "Ticker                                                                      \n",
       "ARX    -0.916832 -0.917217 -0.918045  -0.918135   -0.152786     -1.332445   \n",
       "CCO    -0.880152 -0.879472 -0.879062  -0.878786   -0.379117      1.695742   \n",
       "CNQ     0.971524  0.977848  0.968315   0.971255    1.272074     -0.089092   \n",
       "CVE    -0.994122 -0.992707 -0.994689  -0.993553    2.376902     -0.010201   \n",
       "CPG    -1.218785 -1.221130 -1.218673  -1.219807    1.846798     -2.254365   \n",
       "\n",
       "        AnnualVariance  Oil  Other Energy  StockCluster  \n",
       "Ticker                                                   \n",
       "ARX           0.460854    1             0             2  \n",
       "CCO           0.559411    0             1             1  \n",
       "CNQ          -0.154415    1             0             0  \n",
       "CVE           1.331607    1             0             2  \n",
       "CPG           1.424424    0             1             2  "
      ]
     },
     "execution_count": 11,
     "metadata": {},
     "output_type": "execute_result"
    }
   ],
   "source": [
    "# Create a new column in the DataFrame with the predicted clusters\n",
    "df_stocks_scaled[\"StockCluster\"] = stock_clusters\n",
    "\n",
    "# Review the DataFrame\n",
    "df_stocks_scaled.head()"
   ]
  },
  {
   "cell_type": "markdown",
   "metadata": {},
   "source": [
    "## Step 4: Using hvPlot, create a scatter plot to visualize the clusters setting `x=\"AnnualVariance\"`,  `y=\"Annual Return\"`, and `by=\"StockCluster\"`. Be sure to style and format your plot."
   ]
  },
  {
   "cell_type": "code",
   "execution_count": 12,
   "metadata": {},
   "outputs": [
    {
     "data": {},
     "metadata": {},
     "output_type": "display_data"
    },
    {
     "data": {
      "application/vnd.holoviews_exec.v0+json": "",
      "text/html": [
       "<div id='1002'>\n",
       "\n",
       "\n",
       "\n",
       "\n",
       "\n",
       "  <div class=\"bk-root\" id=\"956deb5f-f023-473c-9330-3a09684f09df\" data-root-id=\"1002\"></div>\n",
       "</div>\n",
       "<script type=\"application/javascript\">(function(root) {\n",
       "  function embed_document(root) {\n",
       "    var docs_json = {\"f56246a5-0fa8-43a7-95c3-15e6d0928004\":{\"defs\":[{\"extends\":null,\"module\":null,\"name\":\"ReactiveHTML1\",\"overrides\":[],\"properties\":[]},{\"extends\":null,\"module\":null,\"name\":\"FlexBox1\",\"overrides\":[],\"properties\":[{\"default\":\"flex-start\",\"kind\":null,\"name\":\"align_content\"},{\"default\":\"flex-start\",\"kind\":null,\"name\":\"align_items\"},{\"default\":\"row\",\"kind\":null,\"name\":\"flex_direction\"},{\"default\":\"wrap\",\"kind\":null,\"name\":\"flex_wrap\"},{\"default\":\"flex-start\",\"kind\":null,\"name\":\"justify_content\"}]},{\"extends\":null,\"module\":null,\"name\":\"TemplateActions1\",\"overrides\":[],\"properties\":[{\"default\":0,\"kind\":null,\"name\":\"open_modal\"},{\"default\":0,\"kind\":null,\"name\":\"close_modal\"}]},{\"extends\":null,\"module\":null,\"name\":\"MaterialTemplateActions1\",\"overrides\":[],\"properties\":[{\"default\":0,\"kind\":null,\"name\":\"open_modal\"},{\"default\":0,\"kind\":null,\"name\":\"close_modal\"}]}],\"roots\":{\"references\":[{\"attributes\":{\"fill_alpha\":{\"value\":0.2},\"fill_color\":{\"value\":\"#fc4f30\"},\"line_alpha\":{\"value\":0.2},\"line_color\":{\"value\":\"#fc4f30\"},\"size\":{\"value\":5.477225575051661},\"x\":{\"field\":\"AnnualVariance\"},\"y\":{\"field\":\"AnnualReturn\"}},\"id\":\"1071\",\"type\":\"Scatter\"},{\"attributes\":{\"end\":2.0907529094036814,\"reset_end\":2.0907529094036814,\"reset_start\":-2.6493762113150154,\"start\":-2.6493762113150154,\"tags\":[[[\"AnnualReturn\",\"AnnualReturn\",null]]]},\"id\":\"1005\",\"type\":\"Range1d\"},{\"attributes\":{\"angle\":{\"value\":0.0},\"fill_alpha\":{\"value\":1.0},\"fill_color\":{\"value\":\"#fc4f30\"},\"hatch_alpha\":{\"value\":1.0},\"hatch_color\":{\"value\":\"black\"},\"hatch_scale\":{\"value\":12.0},\"hatch_weight\":{\"value\":1.0},\"line_alpha\":{\"value\":1.0},\"line_cap\":{\"value\":\"butt\"},\"line_color\":{\"value\":\"#fc4f30\"},\"line_dash\":{\"value\":[]},\"line_dash_offset\":{\"value\":0},\"line_join\":{\"value\":\"bevel\"},\"line_width\":{\"value\":1},\"marker\":{\"value\":\"circle\"},\"size\":{\"value\":5.477225575051661},\"x\":{\"field\":\"AnnualVariance\"},\"y\":{\"field\":\"AnnualReturn\"}},\"id\":\"1087\",\"type\":\"Scatter\"},{\"attributes\":{},\"id\":\"1014\",\"type\":\"LinearScale\"},{\"attributes\":{\"label\":{\"value\":\"1\"},\"renderers\":[{\"id\":\"1072\"}]},\"id\":\"1086\",\"type\":\"LegendItem\"},{\"attributes\":{\"data\":{\"AnnualReturn\":{\"__ndarray__\":\"0RUehcIh+z/2lg7R7WfuP2WtwaQfGLg/dpkGpQSTob+mJXYrIVnOv3a4v4C0zp2/KUhzmnRR+j8O1VKrz9fzvw==\",\"dtype\":\"float64\",\"order\":\"little\",\"shape\":[8]},\"AnnualVariance\":{\"__ndarray__\":\"QlZZtrLm4T9361IX3q3hvyGguQA393k/PgXuhBdn8L+M+UD6s03pv0H/mlP+Dum/VowYmUlF4L+Sk0CzUUbbvw==\",\"dtype\":\"float64\",\"order\":\"little\",\"shape\":[8]},\"StockCluster\":[1,1,1,1,1,1,1,1],\"Ticker\":[\"CCO\",\"GEI\",\"HSE\",\"IPL\",\"KEY\",\"MTL\",\"PKI\",\"PSK\"]},\"selected\":{\"id\":\"1067\"},\"selection_policy\":{\"id\":\"1084\"}},\"id\":\"1066\",\"type\":\"ColumnDataSource\"},{\"attributes\":{\"fill_color\":{\"value\":\"#fc4f30\"},\"line_color\":{\"value\":\"#fc4f30\"},\"size\":{\"value\":5.477225575051661},\"x\":{\"field\":\"AnnualVariance\"},\"y\":{\"field\":\"AnnualReturn\"}},\"id\":\"1069\",\"type\":\"Scatter\"},{\"attributes\":{\"data\":{\"AnnualReturn\":{\"__ndarray__\":\"qP70WbJR9b8DuQ1OQuSEv/z78sDwCALA3KrzWHJxyj9nYnMKr+36P4JTlzO5ddM/7kvp+qzO8L9xoEuPlgz9vw==\",\"dtype\":\"float64\",\"order\":\"little\",\"shape\":[8]},\"AnnualVariance\":{\"__ndarray__\":\"sL+A6Z9+3T/QKoBgQ071PyhozqJwyvY/iinpow0T4T/q2IObhSgGQLiB9hNGwO0/+Z7VzwkS8z+brBmy8+nrPw==\",\"dtype\":\"float64\",\"order\":\"little\",\"shape\":[8]},\"StockCluster\":[2,2,2,2,2,2,2,2],\"Ticker\":[\"ARX\",\"CVE\",\"CPG\",\"ERF\",\"MEG\",\"PXT\",\"VII\",\"WCP\"]},\"selected\":{\"id\":\"1089\"},\"selection_policy\":{\"id\":\"1108\"}},\"id\":\"1088\",\"type\":\"ColumnDataSource\"},{\"attributes\":{},\"id\":\"1023\",\"type\":\"BasicTicker\"},{\"attributes\":{},\"id\":\"1019\",\"type\":\"BasicTicker\"},{\"attributes\":{\"fill_alpha\":{\"value\":0.1},\"fill_color\":{\"value\":\"#fc4f30\"},\"line_alpha\":{\"value\":0.1},\"line_color\":{\"value\":\"#fc4f30\"},\"size\":{\"value\":5.477225575051661},\"x\":{\"field\":\"AnnualVariance\"},\"y\":{\"field\":\"AnnualReturn\"}},\"id\":\"1070\",\"type\":\"Scatter\"},{\"attributes\":{},\"id\":\"1027\",\"type\":\"PanTool\"},{\"attributes\":{\"axis\":{\"id\":\"1018\"},\"grid_line_color\":null,\"ticker\":null},\"id\":\"1021\",\"type\":\"Grid\"},{\"attributes\":{\"axis_label\":\"AnnualReturn\",\"formatter\":{\"id\":\"1043\"},\"major_label_policy\":{\"id\":\"1044\"},\"ticker\":{\"id\":\"1023\"}},\"id\":\"1022\",\"type\":\"LinearAxis\"},{\"attributes\":{\"fill_alpha\":{\"value\":0.2},\"fill_color\":{\"value\":\"#e5ae38\"},\"line_alpha\":{\"value\":0.2},\"line_color\":{\"value\":\"#e5ae38\"},\"size\":{\"value\":5.477225575051661},\"x\":{\"field\":\"AnnualVariance\"},\"y\":{\"field\":\"AnnualReturn\"}},\"id\":\"1093\",\"type\":\"Scatter\"},{\"attributes\":{},\"id\":\"1028\",\"type\":\"WheelZoomTool\"},{\"attributes\":{\"data_source\":{\"id\":\"1066\"},\"glyph\":{\"id\":\"1069\"},\"hover_glyph\":null,\"muted_glyph\":{\"id\":\"1071\"},\"nonselection_glyph\":{\"id\":\"1070\"},\"selection_glyph\":{\"id\":\"1087\"},\"view\":{\"id\":\"1073\"}},\"id\":\"1072\",\"type\":\"GlyphRenderer\"},{\"attributes\":{\"axis\":{\"id\":\"1022\"},\"dimension\":1,\"grid_line_color\":null,\"ticker\":null},\"id\":\"1025\",\"type\":\"Grid\"},{\"attributes\":{\"source\":{\"id\":\"1088\"}},\"id\":\"1095\",\"type\":\"CDSView\"},{\"attributes\":{\"angle\":{\"value\":0.0},\"fill_alpha\":{\"value\":1.0},\"fill_color\":{\"value\":\"#e5ae38\"},\"hatch_alpha\":{\"value\":1.0},\"hatch_color\":{\"value\":\"black\"},\"hatch_scale\":{\"value\":12.0},\"hatch_weight\":{\"value\":1.0},\"line_alpha\":{\"value\":1.0},\"line_cap\":{\"value\":\"butt\"},\"line_color\":{\"value\":\"#e5ae38\"},\"line_dash\":{\"value\":[]},\"line_dash_offset\":{\"value\":0},\"line_join\":{\"value\":\"bevel\"},\"line_width\":{\"value\":1},\"marker\":{\"value\":\"circle\"},\"size\":{\"value\":5.477225575051661},\"x\":{\"field\":\"AnnualVariance\"},\"y\":{\"field\":\"AnnualReturn\"}},\"id\":\"1111\",\"type\":\"Scatter\"},{\"attributes\":{},\"id\":\"1026\",\"type\":\"SaveTool\"},{\"attributes\":{},\"id\":\"1067\",\"type\":\"Selection\"},{\"attributes\":{\"overlay\":{\"id\":\"1031\"}},\"id\":\"1029\",\"type\":\"BoxZoomTool\"},{\"attributes\":{},\"id\":\"1030\",\"type\":\"ResetTool\"},{\"attributes\":{\"margin\":[5,5,5,5],\"name\":\"HSpacer01691\",\"sizing_mode\":\"stretch_width\"},\"id\":\"1003\",\"type\":\"Spacer\"},{\"attributes\":{\"active_multi\":null,\"tools\":[{\"id\":\"1006\"},{\"id\":\"1026\"},{\"id\":\"1027\"},{\"id\":\"1028\"},{\"id\":\"1029\"},{\"id\":\"1030\"}]},\"id\":\"1032\",\"type\":\"Toolbar\"},{\"attributes\":{\"angle\":{\"value\":0.0},\"fill_alpha\":{\"value\":1.0},\"fill_color\":{\"value\":\"#30a2da\"},\"hatch_alpha\":{\"value\":1.0},\"hatch_color\":{\"value\":\"black\"},\"hatch_scale\":{\"value\":12.0},\"hatch_weight\":{\"value\":1.0},\"line_alpha\":{\"value\":1.0},\"line_cap\":{\"value\":\"butt\"},\"line_color\":{\"value\":\"#30a2da\"},\"line_dash\":{\"value\":[]},\"line_dash_offset\":{\"value\":0},\"line_join\":{\"value\":\"bevel\"},\"line_width\":{\"value\":1},\"marker\":{\"value\":\"circle\"},\"size\":{\"value\":5.477225575051661},\"x\":{\"field\":\"AnnualVariance\"},\"y\":{\"field\":\"AnnualReturn\"}},\"id\":\"1065\",\"type\":\"Scatter\"},{\"attributes\":{\"label\":{\"value\":\"2\"},\"renderers\":[{\"id\":\"1094\"}]},\"id\":\"1110\",\"type\":\"LegendItem\"},{\"attributes\":{},\"id\":\"1084\",\"type\":\"UnionRenderers\"},{\"attributes\":{\"children\":[{\"id\":\"1003\"},{\"id\":\"1009\"},{\"id\":\"1238\"}],\"margin\":[0,0,0,0],\"name\":\"Row01687\",\"tags\":[\"embedded\"]},\"id\":\"1002\",\"type\":\"Row\"},{\"attributes\":{\"click_policy\":\"mute\",\"items\":[{\"id\":\"1064\"},{\"id\":\"1086\"},{\"id\":\"1110\"}],\"location\":[0,0],\"title\":\"StockCluster\"},\"id\":\"1063\",\"type\":\"Legend\"},{\"attributes\":{\"fill_color\":{\"value\":\"#e5ae38\"},\"line_color\":{\"value\":\"#e5ae38\"},\"size\":{\"value\":5.477225575051661},\"x\":{\"field\":\"AnnualVariance\"},\"y\":{\"field\":\"AnnualReturn\"}},\"id\":\"1091\",\"type\":\"Scatter\"},{\"attributes\":{\"fill_color\":{\"value\":\"#30a2da\"},\"line_color\":{\"value\":\"#30a2da\"},\"size\":{\"value\":5.477225575051661},\"x\":{\"field\":\"AnnualVariance\"},\"y\":{\"field\":\"AnnualReturn\"}},\"id\":\"1048\",\"type\":\"Scatter\"},{\"attributes\":{\"fill_alpha\":{\"value\":0.1},\"fill_color\":{\"value\":\"#30a2da\"},\"line_alpha\":{\"value\":0.1},\"line_color\":{\"value\":\"#30a2da\"},\"size\":{\"value\":5.477225575051661},\"x\":{\"field\":\"AnnualVariance\"},\"y\":{\"field\":\"AnnualReturn\"}},\"id\":\"1049\",\"type\":\"Scatter\"},{\"attributes\":{\"fill_alpha\":{\"value\":0.1},\"fill_color\":{\"value\":\"#e5ae38\"},\"line_alpha\":{\"value\":0.1},\"line_color\":{\"value\":\"#e5ae38\"},\"size\":{\"value\":5.477225575051661},\"x\":{\"field\":\"AnnualVariance\"},\"y\":{\"field\":\"AnnualReturn\"}},\"id\":\"1092\",\"type\":\"Scatter\"},{\"attributes\":{\"source\":{\"id\":\"1045\"}},\"id\":\"1052\",\"type\":\"CDSView\"},{\"attributes\":{\"callback\":null,\"renderers\":[{\"id\":\"1051\"},{\"id\":\"1072\"},{\"id\":\"1094\"}],\"tags\":[\"hv_created\"],\"tooltips\":[[\"StockCluster\",\"@{StockCluster}\"],[\"AnnualVariance\",\"@{AnnualVariance}\"],[\"AnnualReturn\",\"@{AnnualReturn}\"],[\"Ticker\",\"@{Ticker}\"]]},\"id\":\"1006\",\"type\":\"HoverTool\"},{\"attributes\":{},\"id\":\"1041\",\"type\":\"AllLabels\"},{\"attributes\":{\"data_source\":{\"id\":\"1045\"},\"glyph\":{\"id\":\"1048\"},\"hover_glyph\":null,\"muted_glyph\":{\"id\":\"1050\"},\"nonselection_glyph\":{\"id\":\"1049\"},\"selection_glyph\":{\"id\":\"1065\"},\"view\":{\"id\":\"1052\"}},\"id\":\"1051\",\"type\":\"GlyphRenderer\"},{\"attributes\":{\"data\":{\"AnnualReturn\":{\"__ndarray__\":\"U67u4sDOtr/hnpz5Ge3YP/K/MWS6SOI/NwruplP+4j8IBs7eYXDTP7B1VF3vh80/sHVUXe+HzT/uyyhuFcXpvw==\",\"dtype\":\"float64\",\"order\":\"little\",\"shape\":[8]},\"AnnualVariance\":{\"__ndarray__\":\"zlJw9uDDw79GYuK25Y7nv/PIwwK8Yuu/cGz/rETW8r//BVVl9gbmv9/GP4o8tPG/38Y/ijy08b/vJ01YM5rFvw==\",\"dtype\":\"float64\",\"order\":\"little\",\"shape\":[8]},\"StockCluster\":[0,0,0,0,0,0,0,0],\"Ticker\":[\"CNQ\",\"ENB\",\"IMO\",\"PPL\",\"SU\",\"TRP\",\"TOU\",\"VET\"]},\"selected\":{\"id\":\"1046\"},\"selection_policy\":{\"id\":\"1061\"}},\"id\":\"1045\",\"type\":\"ColumnDataSource\"},{\"attributes\":{\"fill_alpha\":{\"value\":0.2},\"fill_color\":{\"value\":\"#30a2da\"},\"line_alpha\":{\"value\":0.2},\"line_color\":{\"value\":\"#30a2da\"},\"size\":{\"value\":5.477225575051661},\"x\":{\"field\":\"AnnualVariance\"},\"y\":{\"field\":\"AnnualReturn\"}},\"id\":\"1050\",\"type\":\"Scatter\"},{\"attributes\":{\"margin\":[5,5,5,5],\"name\":\"HSpacer01692\",\"sizing_mode\":\"stretch_width\"},\"id\":\"1238\",\"type\":\"Spacer\"},{\"attributes\":{},\"id\":\"1061\",\"type\":\"UnionRenderers\"},{\"attributes\":{\"source\":{\"id\":\"1066\"}},\"id\":\"1073\",\"type\":\"CDSView\"},{\"attributes\":{\"label\":{\"value\":\"0\"},\"renderers\":[{\"id\":\"1051\"}]},\"id\":\"1064\",\"type\":\"LegendItem\"},{\"attributes\":{\"text\":\"Scatter Plot by Stock Segment - k=3\",\"text_color\":\"black\",\"text_font_size\":\"12pt\"},\"id\":\"1010\",\"type\":\"Title\"},{\"attributes\":{\"data_source\":{\"id\":\"1088\"},\"glyph\":{\"id\":\"1091\"},\"hover_glyph\":null,\"muted_glyph\":{\"id\":\"1093\"},\"nonselection_glyph\":{\"id\":\"1092\"},\"selection_glyph\":{\"id\":\"1111\"},\"view\":{\"id\":\"1095\"}},\"id\":\"1094\",\"type\":\"GlyphRenderer\"},{\"attributes\":{},\"id\":\"1046\",\"type\":\"Selection\"},{\"attributes\":{\"end\":2.9389474149360946,\"reset_end\":2.9389474149360946,\"reset_start\":-1.346472916961025,\"start\":-1.346472916961025,\"tags\":[[[\"AnnualVariance\",\"AnnualVariance\",null]]]},\"id\":\"1004\",\"type\":\"Range1d\"},{\"attributes\":{},\"id\":\"1044\",\"type\":\"AllLabels\"},{\"attributes\":{\"bottom_units\":\"screen\",\"fill_alpha\":0.5,\"fill_color\":\"lightgrey\",\"left_units\":\"screen\",\"level\":\"overlay\",\"line_alpha\":1.0,\"line_color\":\"black\",\"line_dash\":[4,4],\"line_width\":2,\"right_units\":\"screen\",\"syncable\":false,\"top_units\":\"screen\"},\"id\":\"1031\",\"type\":\"BoxAnnotation\"},{\"attributes\":{\"axis_label\":\"AnnualVariance\",\"formatter\":{\"id\":\"1040\"},\"major_label_policy\":{\"id\":\"1041\"},\"ticker\":{\"id\":\"1019\"}},\"id\":\"1018\",\"type\":\"LinearAxis\"},{\"attributes\":{},\"id\":\"1089\",\"type\":\"Selection\"},{\"attributes\":{},\"id\":\"1043\",\"type\":\"BasicTickFormatter\"},{\"attributes\":{},\"id\":\"1108\",\"type\":\"UnionRenderers\"},{\"attributes\":{},\"id\":\"1040\",\"type\":\"BasicTickFormatter\"},{\"attributes\":{},\"id\":\"1016\",\"type\":\"LinearScale\"},{\"attributes\":{\"below\":[{\"id\":\"1018\"}],\"center\":[{\"id\":\"1021\"},{\"id\":\"1025\"}],\"height\":300,\"left\":[{\"id\":\"1022\"}],\"margin\":[5,5,5,5],\"min_border_bottom\":10,\"min_border_left\":10,\"min_border_right\":10,\"min_border_top\":10,\"renderers\":[{\"id\":\"1051\"},{\"id\":\"1072\"},{\"id\":\"1094\"}],\"right\":[{\"id\":\"1063\"}],\"sizing_mode\":\"fixed\",\"title\":{\"id\":\"1010\"},\"toolbar\":{\"id\":\"1032\"},\"width\":700,\"x_range\":{\"id\":\"1004\"},\"x_scale\":{\"id\":\"1014\"},\"y_range\":{\"id\":\"1005\"},\"y_scale\":{\"id\":\"1016\"}},\"id\":\"1009\",\"subtype\":\"Figure\",\"type\":\"Plot\"}],\"root_ids\":[\"1002\"]},\"title\":\"Bokeh Application\",\"version\":\"2.3.3\"}};\n",
       "    var render_items = [{\"docid\":\"f56246a5-0fa8-43a7-95c3-15e6d0928004\",\"root_ids\":[\"1002\"],\"roots\":{\"1002\":\"956deb5f-f023-473c-9330-3a09684f09df\"}}];\n",
       "    root.Bokeh.embed.embed_items_notebook(docs_json, render_items);\n",
       "  }\n",
       "  if (root.Bokeh !== undefined && root.Bokeh.Panel !== undefined) {\n",
       "    embed_document(root);\n",
       "  } else {\n",
       "    var attempts = 0;\n",
       "    var timer = setInterval(function(root) {\n",
       "      if (root.Bokeh !== undefined && root.Bokeh.Panel !== undefined) {\n",
       "        clearInterval(timer);\n",
       "        embed_document(root);\n",
       "      } else if (document.readyState == \"complete\") {\n",
       "        attempts++;\n",
       "        if (attempts > 200) {\n",
       "          clearInterval(timer);\n",
       "          console.log(\"Bokeh: ERROR: Unable to run BokehJS code because BokehJS library is missing\");\n",
       "        }\n",
       "      }\n",
       "    }, 25, root)\n",
       "  }\n",
       "})(window);</script>"
      ],
      "text/plain": [
       ":NdOverlay   [StockCluster]\n",
       "   :Scatter   [AnnualVariance]   (AnnualReturn,Ticker)"
      ]
     },
     "execution_count": 12,
     "metadata": {
      "application/vnd.holoviews_exec.v0+json": {
       "id": "1002"
      }
     },
     "output_type": "execute_result"
    }
   ],
   "source": [
    "# Create a scatter plot with x=\"AnnualVariance:,  y=\"AnnualReturn\"\n",
    "df_stocks_scaled.hvplot.scatter(\n",
    "    x=\"AnnualVariance\",\n",
    "    y=\"AnnualReturn\",\n",
    "    by=\"StockCluster\",\n",
    "    hover_cols = [\"Ticker\"], \n",
    "    title = \"Scatter Plot by Stock Segment - k=3\"\n",
    ")"
   ]
  },
  {
   "cell_type": "markdown",
   "metadata": {},
   "source": [
    "## Step 5: To get another perspective on the clusters, reduce the number of features to two principal components by using PCA. Make sure to do the following: \n",
    "\n",
    " * Use the `df_stocks_scaled` DataFrame to complete this analysis. \n",
    "\n",
    " * Review the PCA data. \n",
    "\n",
    " * Calculate the explained variance ratio that results from the PCA data. \n"
   ]
  },
  {
   "cell_type": "code",
   "execution_count": 13,
   "metadata": {},
   "outputs": [],
   "source": [
    "# Create the PCA model instance where n_components=2\n",
    "pca = PCA(n_components=2)"
   ]
  },
  {
   "cell_type": "code",
   "execution_count": 14,
   "metadata": {},
   "outputs": [
    {
     "data": {
      "text/plain": [
       "array([[-2.22690169,  0.65461449],\n",
       "       [-1.5407046 , -1.61072387],\n",
       "       [ 2.08781932,  1.41268551],\n",
       "       [-2.48704626,  1.91289373],\n",
       "       [-3.2207557 ,  2.33080951]])"
      ]
     },
     "execution_count": 14,
     "metadata": {},
     "output_type": "execute_result"
    }
   ],
   "source": [
    "# Fit the df_stocks_scaled data to the PCA\n",
    "stocks_pca_data = pca.fit_transform(df_stocks_scaled)\n",
    "\n",
    "# Review the first five rose of the PCA data\n",
    "# using bracket notation ([0:5])\n",
    "stocks_pca_data[:5]"
   ]
  },
  {
   "cell_type": "code",
   "execution_count": 15,
   "metadata": {},
   "outputs": [
    {
     "data": {
      "text/plain": [
       "array([0.64310452, 0.1572319 ])"
      ]
     },
     "execution_count": 15,
     "metadata": {},
     "output_type": "execute_result"
    }
   ],
   "source": [
    "# Calculate the explained variance\n",
    "pca.explained_variance_ratio_"
   ]
  },
  {
   "cell_type": "markdown",
   "metadata": {},
   "source": [
    "## Step 6: Using the PCA data calculated in the previous step, create a new DataFrame called `df_stocks_pca`. Make sure to do the following: \n",
    "\n",
    "* Add an additional column to the DataFrame that contains the tickers from the original `df_stocks` DataFrame. \n",
    "\n",
    "* Set the new Tickers column as the index. \n",
    "\n",
    "* Review the DataFrame.\n"
   ]
  },
  {
   "cell_type": "code",
   "execution_count": 16,
   "metadata": {},
   "outputs": [
    {
     "data": {
      "text/html": [
       "<div>\n",
       "<style scoped>\n",
       "    .dataframe tbody tr th:only-of-type {\n",
       "        vertical-align: middle;\n",
       "    }\n",
       "\n",
       "    .dataframe tbody tr th {\n",
       "        vertical-align: top;\n",
       "    }\n",
       "\n",
       "    .dataframe thead th {\n",
       "        text-align: right;\n",
       "    }\n",
       "</style>\n",
       "<table border=\"1\" class=\"dataframe\">\n",
       "  <thead>\n",
       "    <tr style=\"text-align: right;\">\n",
       "      <th></th>\n",
       "      <th>PC1</th>\n",
       "      <th>PC2</th>\n",
       "    </tr>\n",
       "    <tr>\n",
       "      <th>Ticker</th>\n",
       "      <th></th>\n",
       "      <th></th>\n",
       "    </tr>\n",
       "  </thead>\n",
       "  <tbody>\n",
       "    <tr>\n",
       "      <th>ARX</th>\n",
       "      <td>-2.226902</td>\n",
       "      <td>0.654614</td>\n",
       "    </tr>\n",
       "    <tr>\n",
       "      <th>CCO</th>\n",
       "      <td>-1.540705</td>\n",
       "      <td>-1.610724</td>\n",
       "    </tr>\n",
       "    <tr>\n",
       "      <th>CNQ</th>\n",
       "      <td>2.087819</td>\n",
       "      <td>1.412686</td>\n",
       "    </tr>\n",
       "    <tr>\n",
       "      <th>CVE</th>\n",
       "      <td>-2.487046</td>\n",
       "      <td>1.912894</td>\n",
       "    </tr>\n",
       "    <tr>\n",
       "      <th>CPG</th>\n",
       "      <td>-3.220756</td>\n",
       "      <td>2.330810</td>\n",
       "    </tr>\n",
       "  </tbody>\n",
       "</table>\n",
       "</div>"
      ],
      "text/plain": [
       "             PC1       PC2\n",
       "Ticker                    \n",
       "ARX    -2.226902  0.654614\n",
       "CCO    -1.540705 -1.610724\n",
       "CNQ     2.087819  1.412686\n",
       "CVE    -2.487046  1.912894\n",
       "CPG    -3.220756  2.330810"
      ]
     },
     "execution_count": 16,
     "metadata": {},
     "output_type": "execute_result"
    }
   ],
   "source": [
    "# Creating a DataFrame with the PCA data\n",
    "df_stocks_pca = pd.DataFrame(stocks_pca_data, columns=[\"PC1\", \"PC2\"])\n",
    "\n",
    "# Copy the tickers names from the original data\n",
    "df_stocks_pca[\"Ticker\"] = df_stocks.index\n",
    "\n",
    "# Set the Ticker column as index\n",
    "df_stocks_pca = df_stocks_pca.set_index(\"Ticker\")\n",
    "\n",
    "# Review the DataFrame\n",
    "df_stocks_pca.head()"
   ]
  },
  {
   "cell_type": "markdown",
   "metadata": {},
   "source": [
    "## Step 7: Rerun the K-means algorithm with the new principal-components data, and then create a scatter plot by using the two principal components for the x and y axes, and by using `StockCluster`. Be sure to style and format your plot.\n",
    "\n",
    "* Question: After visually analyzing the cluster analysis results, what is the impact of using fewer features to cluster the data using K-Means?\n"
   ]
  },
  {
   "cell_type": "code",
   "execution_count": 17,
   "metadata": {},
   "outputs": [
    {
     "name": "stdout",
     "output_type": "stream",
     "text": [
      "[1 0 2 1 1 2 1 0 0 2 0 0 1 0 0 0 2 0 1 2 2 2 2 1]\n"
     ]
    }
   ],
   "source": [
    "# Initialize the K-Means model with n_clusters=3\n",
    "model = KMeans(n_clusters=3)\n",
    "\n",
    "# Fit the model for the df_stocks_pca DataFrame\n",
    "model.fit(df_stocks_pca)\n",
    "\n",
    "# Predict the model segments (clusters)\n",
    "stock_clusters = model.predict(df_stocks_pca)\n",
    "\n",
    "# View the stock segments\n",
    "print(stock_clusters)"
   ]
  },
  {
   "cell_type": "code",
   "execution_count": 18,
   "metadata": {},
   "outputs": [
    {
     "data": {
      "text/html": [
       "<div>\n",
       "<style scoped>\n",
       "    .dataframe tbody tr th:only-of-type {\n",
       "        vertical-align: middle;\n",
       "    }\n",
       "\n",
       "    .dataframe tbody tr th {\n",
       "        vertical-align: top;\n",
       "    }\n",
       "\n",
       "    .dataframe thead th {\n",
       "        text-align: right;\n",
       "    }\n",
       "</style>\n",
       "<table border=\"1\" class=\"dataframe\">\n",
       "  <thead>\n",
       "    <tr style=\"text-align: right;\">\n",
       "      <th></th>\n",
       "      <th>PC1</th>\n",
       "      <th>PC2</th>\n",
       "      <th>StockCluster</th>\n",
       "    </tr>\n",
       "    <tr>\n",
       "      <th>Ticker</th>\n",
       "      <th></th>\n",
       "      <th></th>\n",
       "      <th></th>\n",
       "    </tr>\n",
       "  </thead>\n",
       "  <tbody>\n",
       "    <tr>\n",
       "      <th>ARX</th>\n",
       "      <td>-2.226902</td>\n",
       "      <td>0.654614</td>\n",
       "      <td>1</td>\n",
       "    </tr>\n",
       "    <tr>\n",
       "      <th>CCO</th>\n",
       "      <td>-1.540705</td>\n",
       "      <td>-1.610724</td>\n",
       "      <td>0</td>\n",
       "    </tr>\n",
       "    <tr>\n",
       "      <th>CNQ</th>\n",
       "      <td>2.087819</td>\n",
       "      <td>1.412686</td>\n",
       "      <td>2</td>\n",
       "    </tr>\n",
       "    <tr>\n",
       "      <th>CVE</th>\n",
       "      <td>-2.487046</td>\n",
       "      <td>1.912894</td>\n",
       "      <td>1</td>\n",
       "    </tr>\n",
       "    <tr>\n",
       "      <th>CPG</th>\n",
       "      <td>-3.220756</td>\n",
       "      <td>2.330810</td>\n",
       "      <td>1</td>\n",
       "    </tr>\n",
       "  </tbody>\n",
       "</table>\n",
       "</div>"
      ],
      "text/plain": [
       "             PC1       PC2  StockCluster\n",
       "Ticker                                  \n",
       "ARX    -2.226902  0.654614             1\n",
       "CCO    -1.540705 -1.610724             0\n",
       "CNQ     2.087819  1.412686             2\n",
       "CVE    -2.487046  1.912894             1\n",
       "CPG    -3.220756  2.330810             1"
      ]
     },
     "execution_count": 18,
     "metadata": {},
     "output_type": "execute_result"
    }
   ],
   "source": [
    "# Create a copy of the df_stocks_pca DataFrame and name it as df_stocks_pca_predictions\n",
    "df_stocks_pca_predictions = df_stocks_pca.copy()\n",
    "\n",
    "# Create a new column in the DataFrame with the predicted clusters\n",
    "df_stocks_pca_predictions[\"StockCluster\"] = stock_clusters\n",
    "\n",
    "# Review the DataFrame\n",
    "df_stocks_pca_predictions.head()"
   ]
  },
  {
   "cell_type": "code",
   "execution_count": 19,
   "metadata": {},
   "outputs": [
    {
     "data": {},
     "metadata": {},
     "output_type": "display_data"
    },
    {
     "data": {
      "application/vnd.holoviews_exec.v0+json": "",
      "text/html": [
       "<div id='1310'>\n",
       "\n",
       "\n",
       "\n",
       "\n",
       "\n",
       "  <div class=\"bk-root\" id=\"d22e37cc-bce0-4791-8ba2-c34807d5c2d7\" data-root-id=\"1310\"></div>\n",
       "</div>\n",
       "<script type=\"application/javascript\">(function(root) {\n",
       "  function embed_document(root) {\n",
       "    var docs_json = {\"ac16aa86-ff3e-478c-917e-14d9a64379c7\":{\"defs\":[{\"extends\":null,\"module\":null,\"name\":\"ReactiveHTML1\",\"overrides\":[],\"properties\":[]},{\"extends\":null,\"module\":null,\"name\":\"FlexBox1\",\"overrides\":[],\"properties\":[{\"default\":\"flex-start\",\"kind\":null,\"name\":\"align_content\"},{\"default\":\"flex-start\",\"kind\":null,\"name\":\"align_items\"},{\"default\":\"row\",\"kind\":null,\"name\":\"flex_direction\"},{\"default\":\"wrap\",\"kind\":null,\"name\":\"flex_wrap\"},{\"default\":\"flex-start\",\"kind\":null,\"name\":\"justify_content\"}]},{\"extends\":null,\"module\":null,\"name\":\"TemplateActions1\",\"overrides\":[],\"properties\":[{\"default\":0,\"kind\":null,\"name\":\"open_modal\"},{\"default\":0,\"kind\":null,\"name\":\"close_modal\"}]},{\"extends\":null,\"module\":null,\"name\":\"MaterialTemplateActions1\",\"overrides\":[],\"properties\":[{\"default\":0,\"kind\":null,\"name\":\"open_modal\"},{\"default\":0,\"kind\":null,\"name\":\"close_modal\"}]}],\"roots\":{\"references\":[{\"attributes\":{\"click_policy\":\"mute\",\"items\":[{\"id\":\"1372\"},{\"id\":\"1394\"},{\"id\":\"1418\"}],\"location\":[0,0],\"title\":\"StockCluster\"},\"id\":\"1371\",\"type\":\"Legend\"},{\"attributes\":{\"data_source\":{\"id\":\"1374\"},\"glyph\":{\"id\":\"1377\"},\"hover_glyph\":null,\"muted_glyph\":{\"id\":\"1379\"},\"nonselection_glyph\":{\"id\":\"1378\"},\"selection_glyph\":{\"id\":\"1395\"},\"view\":{\"id\":\"1381\"}},\"id\":\"1380\",\"type\":\"GlyphRenderer\"},{\"attributes\":{},\"id\":\"1322\",\"type\":\"LinearScale\"},{\"attributes\":{\"fill_alpha\":{\"value\":0.1},\"fill_color\":{\"value\":\"#fc4f30\"},\"line_alpha\":{\"value\":0.1},\"line_color\":{\"value\":\"#fc4f30\"},\"size\":{\"value\":5.477225575051661},\"x\":{\"field\":\"PC1\"},\"y\":{\"field\":\"PC2\"}},\"id\":\"1378\",\"type\":\"Scatter\"},{\"attributes\":{},\"id\":\"1324\",\"type\":\"LinearScale\"},{\"attributes\":{\"data_source\":{\"id\":\"1396\"},\"glyph\":{\"id\":\"1399\"},\"hover_glyph\":null,\"muted_glyph\":{\"id\":\"1401\"},\"nonselection_glyph\":{\"id\":\"1400\"},\"selection_glyph\":{\"id\":\"1419\"},\"view\":{\"id\":\"1403\"}},\"id\":\"1402\",\"type\":\"GlyphRenderer\"},{\"attributes\":{\"label\":{\"value\":\"1\"},\"renderers\":[{\"id\":\"1380\"}]},\"id\":\"1394\",\"type\":\"LegendItem\"},{\"attributes\":{\"text\":\"Scatter Plot by Stock Segment - PCA=2\",\"text_color\":\"black\",\"text_font_size\":\"12pt\"},\"id\":\"1318\",\"type\":\"Title\"},{\"attributes\":{},\"id\":\"1397\",\"type\":\"Selection\"},{\"attributes\":{\"source\":{\"id\":\"1374\"}},\"id\":\"1381\",\"type\":\"CDSView\"},{\"attributes\":{\"children\":[{\"id\":\"1311\"},{\"id\":\"1317\"},{\"id\":\"1546\"}],\"margin\":[0,0,0,0],\"name\":\"Row02316\",\"tags\":[\"embedded\"]},\"id\":\"1310\",\"type\":\"Row\"},{\"attributes\":{\"axis_label\":\"PC1\",\"formatter\":{\"id\":\"1348\"},\"major_label_policy\":{\"id\":\"1349\"},\"ticker\":{\"id\":\"1327\"}},\"id\":\"1326\",\"type\":\"LinearAxis\"},{\"attributes\":{\"fill_alpha\":{\"value\":0.1},\"fill_color\":{\"value\":\"#e5ae38\"},\"line_alpha\":{\"value\":0.1},\"line_color\":{\"value\":\"#e5ae38\"},\"size\":{\"value\":5.477225575051661},\"x\":{\"field\":\"PC1\"},\"y\":{\"field\":\"PC2\"}},\"id\":\"1400\",\"type\":\"Scatter\"},{\"attributes\":{},\"id\":\"1327\",\"type\":\"BasicTicker\"},{\"attributes\":{\"fill_alpha\":{\"value\":0.2},\"fill_color\":{\"value\":\"#fc4f30\"},\"line_alpha\":{\"value\":0.2},\"line_color\":{\"value\":\"#fc4f30\"},\"size\":{\"value\":5.477225575051661},\"x\":{\"field\":\"PC1\"},\"y\":{\"field\":\"PC2\"}},\"id\":\"1379\",\"type\":\"Scatter\"},{\"attributes\":{},\"id\":\"1331\",\"type\":\"BasicTicker\"},{\"attributes\":{\"axis\":{\"id\":\"1326\"},\"grid_line_color\":null,\"ticker\":null},\"id\":\"1329\",\"type\":\"Grid\"},{\"attributes\":{\"angle\":{\"value\":0.0},\"fill_alpha\":{\"value\":1.0},\"fill_color\":{\"value\":\"#e5ae38\"},\"hatch_alpha\":{\"value\":1.0},\"hatch_color\":{\"value\":\"black\"},\"hatch_scale\":{\"value\":12.0},\"hatch_weight\":{\"value\":1.0},\"line_alpha\":{\"value\":1.0},\"line_cap\":{\"value\":\"butt\"},\"line_color\":{\"value\":\"#e5ae38\"},\"line_dash\":{\"value\":[]},\"line_dash_offset\":{\"value\":0},\"line_join\":{\"value\":\"bevel\"},\"line_width\":{\"value\":1},\"marker\":{\"value\":\"circle\"},\"size\":{\"value\":5.477225575051661},\"x\":{\"field\":\"PC1\"},\"y\":{\"field\":\"PC2\"}},\"id\":\"1419\",\"type\":\"Scatter\"},{\"attributes\":{\"label\":{\"value\":\"2\"},\"renderers\":[{\"id\":\"1402\"}]},\"id\":\"1418\",\"type\":\"LegendItem\"},{\"attributes\":{},\"id\":\"1335\",\"type\":\"PanTool\"},{\"attributes\":{\"axis_label\":\"PC2\",\"formatter\":{\"id\":\"1351\"},\"major_label_policy\":{\"id\":\"1352\"},\"ticker\":{\"id\":\"1331\"}},\"id\":\"1330\",\"type\":\"LinearAxis\"},{\"attributes\":{\"data\":{\"PC1\":{\"__ndarray__\":\"ulrtndqzAECtfTr5e9MDQKE4OOPtNQFA1A9yhdedBUD455koKfMHQFGpLanNTQ9Aeb/kD/SaD0BVxXXlXWb/Pw==\",\"dtype\":\"float64\",\"order\":\"little\",\"shape\":[8]},\"PC2\":{\"__ndarray__\":\"tetDHlya9j8m8voM1cruP8NYhgnixdu/1/sIim4g1b+AUCc6YX30P2P+I2Zgusw/Piycy+gp5D9/EMl5otDUPw==\",\"dtype\":\"float64\",\"order\":\"little\",\"shape\":[8]},\"StockCluster\":[2,2,2,2,2,2,2,2]},\"selected\":{\"id\":\"1397\"},\"selection_policy\":{\"id\":\"1416\"}},\"id\":\"1396\",\"type\":\"ColumnDataSource\"},{\"attributes\":{},\"id\":\"1336\",\"type\":\"WheelZoomTool\"},{\"attributes\":{\"fill_color\":{\"value\":\"#e5ae38\"},\"line_color\":{\"value\":\"#e5ae38\"},\"size\":{\"value\":5.477225575051661},\"x\":{\"field\":\"PC1\"},\"y\":{\"field\":\"PC2\"}},\"id\":\"1399\",\"type\":\"Scatter\"},{\"attributes\":{\"active_multi\":null,\"tools\":[{\"id\":\"1314\"},{\"id\":\"1334\"},{\"id\":\"1335\"},{\"id\":\"1336\"},{\"id\":\"1337\"},{\"id\":\"1338\"}]},\"id\":\"1340\",\"type\":\"Toolbar\"},{\"attributes\":{\"source\":{\"id\":\"1396\"}},\"id\":\"1403\",\"type\":\"CDSView\"},{\"attributes\":{\"axis\":{\"id\":\"1330\"},\"dimension\":1,\"grid_line_color\":null,\"ticker\":null},\"id\":\"1333\",\"type\":\"Grid\"},{\"attributes\":{},\"id\":\"1334\",\"type\":\"SaveTool\"},{\"attributes\":{\"fill_alpha\":{\"value\":0.2},\"fill_color\":{\"value\":\"#e5ae38\"},\"line_alpha\":{\"value\":0.2},\"line_color\":{\"value\":\"#e5ae38\"},\"size\":{\"value\":5.477225575051661},\"x\":{\"field\":\"PC1\"},\"y\":{\"field\":\"PC2\"}},\"id\":\"1401\",\"type\":\"Scatter\"},{\"attributes\":{\"overlay\":{\"id\":\"1339\"}},\"id\":\"1337\",\"type\":\"BoxZoomTool\"},{\"attributes\":{},\"id\":\"1338\",\"type\":\"ResetTool\"},{\"attributes\":{\"data\":{\"PC1\":{\"__ndarray__\":\"XMIw3bmm+L8KF2FmuTDmvzkzFGZ9Tu6/i3NvCOZit79rhA0HvmjwPxzcl1wfafK/T7OWWTWm9r8j1f6gV+LyP0PsMQ0Flsm/\",\"dtype\":\"float64\",\"order\":\"little\",\"shape\":[9]},\"PC2\":{\"__ndarray__\":\"6EKVY4bF+b9XeOJiwW/9v9SYb2hK5eS/meP1um1q6r/qgh3ybeLovz19SBOJ9/i/Nf/0iyBW4L91QYpfVJL9vxIa/PvsVLE/\",\"dtype\":\"float64\",\"order\":\"little\",\"shape\":[9]},\"StockCluster\":[0,0,0,0,0,0,0,0,0]},\"selected\":{\"id\":\"1354\"},\"selection_policy\":{\"id\":\"1369\"}},\"id\":\"1353\",\"type\":\"ColumnDataSource\"},{\"attributes\":{},\"id\":\"1392\",\"type\":\"UnionRenderers\"},{\"attributes\":{},\"id\":\"1348\",\"type\":\"BasicTickFormatter\"},{\"attributes\":{\"source\":{\"id\":\"1353\"}},\"id\":\"1360\",\"type\":\"CDSView\"},{\"attributes\":{},\"id\":\"1349\",\"type\":\"AllLabels\"},{\"attributes\":{\"fill_alpha\":{\"value\":0.1},\"fill_color\":{\"value\":\"#30a2da\"},\"line_alpha\":{\"value\":0.1},\"line_color\":{\"value\":\"#30a2da\"},\"size\":{\"value\":5.477225575051661},\"x\":{\"field\":\"PC1\"},\"y\":{\"field\":\"PC2\"}},\"id\":\"1357\",\"type\":\"Scatter\"},{\"attributes\":{\"below\":[{\"id\":\"1326\"}],\"center\":[{\"id\":\"1329\"},{\"id\":\"1333\"}],\"height\":300,\"left\":[{\"id\":\"1330\"}],\"margin\":[5,5,5,5],\"min_border_bottom\":10,\"min_border_left\":10,\"min_border_right\":10,\"min_border_top\":10,\"renderers\":[{\"id\":\"1359\"},{\"id\":\"1380\"},{\"id\":\"1402\"}],\"right\":[{\"id\":\"1371\"}],\"sizing_mode\":\"fixed\",\"title\":{\"id\":\"1318\"},\"toolbar\":{\"id\":\"1340\"},\"width\":700,\"x_range\":{\"id\":\"1312\"},\"x_scale\":{\"id\":\"1322\"},\"y_range\":{\"id\":\"1313\"},\"y_scale\":{\"id\":\"1324\"}},\"id\":\"1317\",\"subtype\":\"Figure\",\"type\":\"Plot\"},{\"attributes\":{\"fill_alpha\":{\"value\":0.2},\"fill_color\":{\"value\":\"#30a2da\"},\"line_alpha\":{\"value\":0.2},\"line_color\":{\"value\":\"#30a2da\"},\"size\":{\"value\":5.477225575051661},\"x\":{\"field\":\"PC1\"},\"y\":{\"field\":\"PC2\"}},\"id\":\"1358\",\"type\":\"Scatter\"},{\"attributes\":{\"data\":{\"PC1\":{\"__ndarray__\":\"WWXm1LHQAcDmKvyBeOUDwF89648bxAnAU2rY/41e/r+sSU1BKJwKwCdb7P0k2wHAokNoBJofCMA=\",\"dtype\":\"float64\",\"order\":\"little\",\"shape\":[7]},\"PC2\":{\"__ndarray__\":\"g7ZHGJry5D+YNZx1Npv+P3v5WnR/pQJAxe410UMw2L8yqKxUQtHkv6mzomCh+98/ehxCS0Tg8T8=\",\"dtype\":\"float64\",\"order\":\"little\",\"shape\":[7]},\"StockCluster\":[1,1,1,1,1,1,1]},\"selected\":{\"id\":\"1375\"},\"selection_policy\":{\"id\":\"1392\"}},\"id\":\"1374\",\"type\":\"ColumnDataSource\"},{\"attributes\":{},\"id\":\"1369\",\"type\":\"UnionRenderers\"},{\"attributes\":{\"margin\":[5,5,5,5],\"name\":\"HSpacer02321\",\"sizing_mode\":\"stretch_width\"},\"id\":\"1546\",\"type\":\"Spacer\"},{\"attributes\":{\"end\":4.262528373102484,\"reset_end\":4.262528373102484,\"reset_start\":-3.6381162046023494,\"start\":-3.6381162046023494,\"tags\":[[[\"PC1\",\"PC1\",null]]]},\"id\":\"1312\",\"type\":\"Range1d\"},{\"attributes\":{},\"id\":\"1416\",\"type\":\"UnionRenderers\"},{\"attributes\":{\"label\":{\"value\":\"0\"},\"renderers\":[{\"id\":\"1359\"}]},\"id\":\"1372\",\"type\":\"LegendItem\"},{\"attributes\":{\"angle\":{\"value\":0.0},\"fill_alpha\":{\"value\":1.0},\"fill_color\":{\"value\":\"#30a2da\"},\"hatch_alpha\":{\"value\":1.0},\"hatch_color\":{\"value\":\"black\"},\"hatch_scale\":{\"value\":12.0},\"hatch_weight\":{\"value\":1.0},\"line_alpha\":{\"value\":1.0},\"line_cap\":{\"value\":\"butt\"},\"line_color\":{\"value\":\"#30a2da\"},\"line_dash\":{\"value\":[]},\"line_dash_offset\":{\"value\":0},\"line_join\":{\"value\":\"bevel\"},\"line_width\":{\"value\":1},\"marker\":{\"value\":\"circle\"},\"size\":{\"value\":5.477225575051661},\"x\":{\"field\":\"PC1\"},\"y\":{\"field\":\"PC2\"}},\"id\":\"1373\",\"type\":\"Scatter\"},{\"attributes\":{\"angle\":{\"value\":0.0},\"fill_alpha\":{\"value\":1.0},\"fill_color\":{\"value\":\"#fc4f30\"},\"hatch_alpha\":{\"value\":1.0},\"hatch_color\":{\"value\":\"black\"},\"hatch_scale\":{\"value\":12.0},\"hatch_weight\":{\"value\":1.0},\"line_alpha\":{\"value\":1.0},\"line_cap\":{\"value\":\"butt\"},\"line_color\":{\"value\":\"#fc4f30\"},\"line_dash\":{\"value\":[]},\"line_dash_offset\":{\"value\":0},\"line_join\":{\"value\":\"bevel\"},\"line_width\":{\"value\":1},\"marker\":{\"value\":\"circle\"},\"size\":{\"value\":5.477225575051661},\"x\":{\"field\":\"PC1\"},\"y\":{\"field\":\"PC2\"}},\"id\":\"1395\",\"type\":\"Scatter\"},{\"attributes\":{\"data_source\":{\"id\":\"1353\"},\"glyph\":{\"id\":\"1356\"},\"hover_glyph\":null,\"muted_glyph\":{\"id\":\"1358\"},\"nonselection_glyph\":{\"id\":\"1357\"},\"selection_glyph\":{\"id\":\"1373\"},\"view\":{\"id\":\"1360\"}},\"id\":\"1359\",\"type\":\"GlyphRenderer\"},{\"attributes\":{\"callback\":null,\"renderers\":[{\"id\":\"1359\"},{\"id\":\"1380\"},{\"id\":\"1402\"}],\"tags\":[\"hv_created\"],\"tooltips\":[[\"StockCluster\",\"@{StockCluster}\"],[\"PC1\",\"@{PC1}\"],[\"PC2\",\"@{PC2}\"]]},\"id\":\"1314\",\"type\":\"HoverTool\"},{\"attributes\":{\"end\":2.7487129566662705,\"reset_end\":2.7487129566662705,\"reset_start\":-2.266128446031888,\"start\":-2.266128446031888,\"tags\":[[[\"PC2\",\"PC2\",null]]]},\"id\":\"1313\",\"type\":\"Range1d\"},{\"attributes\":{},\"id\":\"1351\",\"type\":\"BasicTickFormatter\"},{\"attributes\":{\"bottom_units\":\"screen\",\"fill_alpha\":0.5,\"fill_color\":\"lightgrey\",\"left_units\":\"screen\",\"level\":\"overlay\",\"line_alpha\":1.0,\"line_color\":\"black\",\"line_dash\":[4,4],\"line_width\":2,\"right_units\":\"screen\",\"syncable\":false,\"top_units\":\"screen\"},\"id\":\"1339\",\"type\":\"BoxAnnotation\"},{\"attributes\":{},\"id\":\"1354\",\"type\":\"Selection\"},{\"attributes\":{},\"id\":\"1352\",\"type\":\"AllLabels\"},{\"attributes\":{\"margin\":[5,5,5,5],\"name\":\"HSpacer02320\",\"sizing_mode\":\"stretch_width\"},\"id\":\"1311\",\"type\":\"Spacer\"},{\"attributes\":{},\"id\":\"1375\",\"type\":\"Selection\"},{\"attributes\":{\"fill_color\":{\"value\":\"#30a2da\"},\"line_color\":{\"value\":\"#30a2da\"},\"size\":{\"value\":5.477225575051661},\"x\":{\"field\":\"PC1\"},\"y\":{\"field\":\"PC2\"}},\"id\":\"1356\",\"type\":\"Scatter\"},{\"attributes\":{\"fill_color\":{\"value\":\"#fc4f30\"},\"line_color\":{\"value\":\"#fc4f30\"},\"size\":{\"value\":5.477225575051661},\"x\":{\"field\":\"PC1\"},\"y\":{\"field\":\"PC2\"}},\"id\":\"1377\",\"type\":\"Scatter\"}],\"root_ids\":[\"1310\"]},\"title\":\"Bokeh Application\",\"version\":\"2.3.3\"}};\n",
       "    var render_items = [{\"docid\":\"ac16aa86-ff3e-478c-917e-14d9a64379c7\",\"root_ids\":[\"1310\"],\"roots\":{\"1310\":\"d22e37cc-bce0-4791-8ba2-c34807d5c2d7\"}}];\n",
       "    root.Bokeh.embed.embed_items_notebook(docs_json, render_items);\n",
       "  }\n",
       "  if (root.Bokeh !== undefined && root.Bokeh.Panel !== undefined) {\n",
       "    embed_document(root);\n",
       "  } else {\n",
       "    var attempts = 0;\n",
       "    var timer = setInterval(function(root) {\n",
       "      if (root.Bokeh !== undefined && root.Bokeh.Panel !== undefined) {\n",
       "        clearInterval(timer);\n",
       "        embed_document(root);\n",
       "      } else if (document.readyState == \"complete\") {\n",
       "        attempts++;\n",
       "        if (attempts > 200) {\n",
       "          clearInterval(timer);\n",
       "          console.log(\"Bokeh: ERROR: Unable to run BokehJS code because BokehJS library is missing\");\n",
       "        }\n",
       "      }\n",
       "    }, 25, root)\n",
       "  }\n",
       "})(window);</script>"
      ],
      "text/plain": [
       ":NdOverlay   [StockCluster]\n",
       "   :Scatter   [PC1]   (PC2)"
      ]
     },
     "execution_count": 19,
     "metadata": {
      "application/vnd.holoviews_exec.v0+json": {
       "id": "1310"
      }
     },
     "output_type": "execute_result"
    }
   ],
   "source": [
    "# Create the scatter plot with x=\"PC1\" and y=\"PC2\"\n",
    "df_stocks_pca_predictions.hvplot.scatter(\n",
    "    x=\"PC1\",\n",
    "    y=\"PC2\",\n",
    "    by=\"StockCluster\",\n",
    "    title = \"Scatter Plot by Stock Segment - PCA=2\"\n",
    ")"
   ]
  },
  {
   "cell_type": "markdown",
   "metadata": {},
   "source": [
    "\n",
    "**Question:** After visually analyzing the cluster analysis results, what is the impact of using fewer features to cluster the data using K-Means?\n",
    "\n",
    "**Answer:** We can conclude that we can use less features and get a similar performance to the original model since we can clearly identify three clusters."
   ]
  },
  {
   "cell_type": "markdown",
   "metadata": {},
   "source": [
    "### Optional Challenge: Find the best `k` with `PCA`"
   ]
  },
  {
   "cell_type": "markdown",
   "metadata": {},
   "source": [
    "In this section, you will use the elbow method to find the best value for k using the PCA data.\n",
    "\n",
    "* Code the elbow method algorithm and use the PCA data to find the best value for k. Use a range from 1 to 11.\n",
    "\n",
    "* Plot a line chart with all the inertia values computed with the different values of k to visually identify the optimal value for k.\n",
    "\n",
    "* Answer the following question: What is the best value for k when using the PCA data? Does it differ from the best k value found using the original data?"
   ]
  },
  {
   "cell_type": "code",
   "execution_count": 20,
   "metadata": {},
   "outputs": [],
   "source": [
    "# Create a list with the number of k-values to try\n",
    "# Use a range from 1 to 11\n",
    "k = list(range(1, 11))"
   ]
  },
  {
   "cell_type": "code",
   "execution_count": 21,
   "metadata": {},
   "outputs": [],
   "source": [
    "# Create an empy list to store the inertia values\n",
    "inertia = []"
   ]
  },
  {
   "cell_type": "code",
   "execution_count": 22,
   "metadata": {},
   "outputs": [],
   "source": [
    "# Create a for loop to compute the inertia with each possible value of k\n",
    "# Inside the loop:\n",
    "# 1. Create a KMeans model using the loop counter for the n_clusters\n",
    "# 2. Fit the model to the data using `df_stocks_pca`\n",
    "# 3. Append the model.inertia_ to the inertia list\n",
    "for i in k:\n",
    "    model = KMeans(n_clusters=i, random_state=0)\n",
    "    model.fit(df_stocks_pca)\n",
    "    inertia.append(model.inertia_)"
   ]
  },
  {
   "cell_type": "code",
   "execution_count": 23,
   "metadata": {},
   "outputs": [],
   "source": [
    "# Create a dictionary with the data to plot the Elbow curve\n",
    "elbow_data_pca = {\n",
    "    \"k\": k,\n",
    "    \"inertia\": inertia\n",
    "}\n",
    "\n",
    "# Create a DataFrame with the data to plot the Elbow curve\n",
    "df_elbow_pca = pd.DataFrame(elbow_data_pca)"
   ]
  },
  {
   "cell_type": "code",
   "execution_count": 24,
   "metadata": {},
   "outputs": [
    {
     "data": {},
     "metadata": {},
     "output_type": "display_data"
    },
    {
     "data": {
      "application/vnd.holoviews_exec.v0+json": "",
      "text/html": [
       "<div id='1618'>\n",
       "\n",
       "\n",
       "\n",
       "\n",
       "\n",
       "  <div class=\"bk-root\" id=\"8e55fd5d-0afa-4d81-abdb-5a6e7142a227\" data-root-id=\"1618\"></div>\n",
       "</div>\n",
       "<script type=\"application/javascript\">(function(root) {\n",
       "  function embed_document(root) {\n",
       "    var docs_json = {\"99b2c6c1-d4fd-4888-90ec-6083bcc010b4\":{\"defs\":[{\"extends\":null,\"module\":null,\"name\":\"ReactiveHTML1\",\"overrides\":[],\"properties\":[]},{\"extends\":null,\"module\":null,\"name\":\"FlexBox1\",\"overrides\":[],\"properties\":[{\"default\":\"flex-start\",\"kind\":null,\"name\":\"align_content\"},{\"default\":\"flex-start\",\"kind\":null,\"name\":\"align_items\"},{\"default\":\"row\",\"kind\":null,\"name\":\"flex_direction\"},{\"default\":\"wrap\",\"kind\":null,\"name\":\"flex_wrap\"},{\"default\":\"flex-start\",\"kind\":null,\"name\":\"justify_content\"}]},{\"extends\":null,\"module\":null,\"name\":\"TemplateActions1\",\"overrides\":[],\"properties\":[{\"default\":0,\"kind\":null,\"name\":\"open_modal\"},{\"default\":0,\"kind\":null,\"name\":\"close_modal\"}]},{\"extends\":null,\"module\":null,\"name\":\"MaterialTemplateActions1\",\"overrides\":[],\"properties\":[{\"default\":0,\"kind\":null,\"name\":\"open_modal\"},{\"default\":0,\"kind\":null,\"name\":\"close_modal\"}]}],\"roots\":{\"references\":[{\"attributes\":{\"margin\":[5,5,5,5],\"name\":\"HSpacer02876\",\"sizing_mode\":\"stretch_width\"},\"id\":\"1619\",\"type\":\"Spacer\"},{\"attributes\":{\"text\":\"Elbow Curve Using PCA Data\",\"text_color\":\"black\",\"text_font_size\":\"12pt\"},\"id\":\"1624\",\"type\":\"Title\"},{\"attributes\":{},\"id\":\"1669\",\"type\":\"BasicTickFormatter\"},{\"attributes\":{\"callback\":null,\"renderers\":[{\"id\":\"1659\"}],\"tags\":[\"hv_created\"],\"tooltips\":[[\"k\",\"@{k}\"],[\"inertia\",\"@{inertia}\"]]},\"id\":\"1622\",\"type\":\"HoverTool\"},{\"attributes\":{\"end\":172.06955993492068,\"reset_end\":172.06955993492068,\"reset_start\":-11.174242597747838,\"start\":-11.174242597747838,\"tags\":[[[\"inertia\",\"inertia\",null]]]},\"id\":\"1621\",\"type\":\"Range1d\"},{\"attributes\":{\"ticks\":[1,2,3,4,5,6,7,8,9,10]},\"id\":\"1662\",\"type\":\"FixedTicker\"},{\"attributes\":{\"children\":[{\"id\":\"1619\"},{\"id\":\"1623\"},{\"id\":\"1689\"}],\"margin\":[0,0,0,0],\"name\":\"Row02872\",\"tags\":[\"embedded\"]},\"id\":\"1618\",\"type\":\"Row\"},{\"attributes\":{},\"id\":\"1628\",\"type\":\"LinearScale\"},{\"attributes\":{\"data\":{\"inertia\":{\"__ndarray__\":\"GQctZpOZY0DRddqIHwBLQGVhD/iIazxA6KsIw70SNUCVjXqZ/Y4wQPjsFD+taCpAV9wZYv3wJEC5yz2+7UUdQLWmU0KJaxZA2ejJS2FiEEA=\",\"dtype\":\"float64\",\"order\":\"little\",\"shape\":[10]},\"k\":[1,2,3,4,5,6,7,8,9,10]},\"selected\":{\"id\":\"1654\"},\"selection_policy\":{\"id\":\"1678\"}},\"id\":\"1653\",\"type\":\"ColumnDataSource\"},{\"attributes\":{},\"id\":\"1664\",\"type\":\"BasicTickFormatter\"},{\"attributes\":{},\"id\":\"1641\",\"type\":\"PanTool\"},{\"attributes\":{},\"id\":\"1630\",\"type\":\"LinearScale\"},{\"attributes\":{},\"id\":\"1665\",\"type\":\"AllLabels\"},{\"attributes\":{\"below\":[{\"id\":\"1632\"}],\"center\":[{\"id\":\"1635\"},{\"id\":\"1639\"}],\"height\":300,\"left\":[{\"id\":\"1636\"}],\"margin\":[5,5,5,5],\"min_border_bottom\":10,\"min_border_left\":10,\"min_border_right\":10,\"min_border_top\":10,\"renderers\":[{\"id\":\"1659\"}],\"sizing_mode\":\"fixed\",\"title\":{\"id\":\"1624\"},\"toolbar\":{\"id\":\"1646\"},\"width\":700,\"x_range\":{\"id\":\"1620\"},\"x_scale\":{\"id\":\"1628\"},\"y_range\":{\"id\":\"1621\"},\"y_scale\":{\"id\":\"1630\"}},\"id\":\"1623\",\"subtype\":\"Figure\",\"type\":\"Plot\"},{\"attributes\":{\"axis\":{\"id\":\"1632\"},\"grid_line_color\":null,\"ticker\":null},\"id\":\"1635\",\"type\":\"Grid\"},{\"attributes\":{\"axis_label\":\"k\",\"formatter\":{\"id\":\"1664\"},\"major_label_policy\":{\"id\":\"1665\"},\"ticker\":{\"id\":\"1662\"}},\"id\":\"1632\",\"type\":\"LinearAxis\"},{\"attributes\":{\"axis\":{\"id\":\"1636\"},\"dimension\":1,\"grid_line_color\":null,\"ticker\":null},\"id\":\"1639\",\"type\":\"Grid\"},{\"attributes\":{\"axis_label\":\"inertia\",\"formatter\":{\"id\":\"1669\"},\"major_label_policy\":{\"id\":\"1670\"},\"ticker\":{\"id\":\"1637\"}},\"id\":\"1636\",\"type\":\"LinearAxis\"},{\"attributes\":{},\"id\":\"1637\",\"type\":\"BasicTicker\"},{\"attributes\":{\"margin\":[5,5,5,5],\"name\":\"HSpacer02877\",\"sizing_mode\":\"stretch_width\"},\"id\":\"1689\",\"type\":\"Spacer\"},{\"attributes\":{\"active_multi\":null,\"tools\":[{\"id\":\"1622\"},{\"id\":\"1640\"},{\"id\":\"1641\"},{\"id\":\"1642\"},{\"id\":\"1643\"},{\"id\":\"1644\"}]},\"id\":\"1646\",\"type\":\"Toolbar\"},{\"attributes\":{},\"id\":\"1642\",\"type\":\"WheelZoomTool\"},{\"attributes\":{},\"id\":\"1640\",\"type\":\"SaveTool\"},{\"attributes\":{\"overlay\":{\"id\":\"1645\"}},\"id\":\"1643\",\"type\":\"BoxZoomTool\"},{\"attributes\":{},\"id\":\"1644\",\"type\":\"ResetTool\"},{\"attributes\":{\"end\":10.0,\"reset_end\":10.0,\"reset_start\":1.0,\"start\":1.0,\"tags\":[[[\"k\",\"k\",null]]]},\"id\":\"1620\",\"type\":\"Range1d\"},{\"attributes\":{\"data_source\":{\"id\":\"1653\"},\"glyph\":{\"id\":\"1656\"},\"hover_glyph\":null,\"muted_glyph\":{\"id\":\"1658\"},\"nonselection_glyph\":{\"id\":\"1657\"},\"selection_glyph\":{\"id\":\"1661\"},\"view\":{\"id\":\"1660\"}},\"id\":\"1659\",\"type\":\"GlyphRenderer\"},{\"attributes\":{\"line_color\":\"#30a2da\",\"line_width\":2,\"x\":{\"field\":\"k\"},\"y\":{\"field\":\"inertia\"}},\"id\":\"1656\",\"type\":\"Line\"},{\"attributes\":{},\"id\":\"1670\",\"type\":\"AllLabels\"},{\"attributes\":{},\"id\":\"1654\",\"type\":\"Selection\"},{\"attributes\":{\"line_alpha\":0.1,\"line_color\":\"#30a2da\",\"line_width\":2,\"x\":{\"field\":\"k\"},\"y\":{\"field\":\"inertia\"}},\"id\":\"1657\",\"type\":\"Line\"},{\"attributes\":{},\"id\":\"1678\",\"type\":\"UnionRenderers\"},{\"attributes\":{\"line_color\":\"#30a2da\",\"line_width\":2,\"x\":{\"field\":\"k\"},\"y\":{\"field\":\"inertia\"}},\"id\":\"1661\",\"type\":\"Line\"},{\"attributes\":{\"source\":{\"id\":\"1653\"}},\"id\":\"1660\",\"type\":\"CDSView\"},{\"attributes\":{\"line_alpha\":0.2,\"line_color\":\"#30a2da\",\"line_width\":2,\"x\":{\"field\":\"k\"},\"y\":{\"field\":\"inertia\"}},\"id\":\"1658\",\"type\":\"Line\"},{\"attributes\":{\"bottom_units\":\"screen\",\"fill_alpha\":0.5,\"fill_color\":\"lightgrey\",\"left_units\":\"screen\",\"level\":\"overlay\",\"line_alpha\":1.0,\"line_color\":\"black\",\"line_dash\":[4,4],\"line_width\":2,\"right_units\":\"screen\",\"syncable\":false,\"top_units\":\"screen\"},\"id\":\"1645\",\"type\":\"BoxAnnotation\"}],\"root_ids\":[\"1618\"]},\"title\":\"Bokeh Application\",\"version\":\"2.3.3\"}};\n",
       "    var render_items = [{\"docid\":\"99b2c6c1-d4fd-4888-90ec-6083bcc010b4\",\"root_ids\":[\"1618\"],\"roots\":{\"1618\":\"8e55fd5d-0afa-4d81-abdb-5a6e7142a227\"}}];\n",
       "    root.Bokeh.embed.embed_items_notebook(docs_json, render_items);\n",
       "  }\n",
       "  if (root.Bokeh !== undefined && root.Bokeh.Panel !== undefined) {\n",
       "    embed_document(root);\n",
       "  } else {\n",
       "    var attempts = 0;\n",
       "    var timer = setInterval(function(root) {\n",
       "      if (root.Bokeh !== undefined && root.Bokeh.Panel !== undefined) {\n",
       "        clearInterval(timer);\n",
       "        embed_document(root);\n",
       "      } else if (document.readyState == \"complete\") {\n",
       "        attempts++;\n",
       "        if (attempts > 200) {\n",
       "          clearInterval(timer);\n",
       "          console.log(\"Bokeh: ERROR: Unable to run BokehJS code because BokehJS library is missing\");\n",
       "        }\n",
       "      }\n",
       "    }, 25, root)\n",
       "  }\n",
       "})(window);</script>"
      ],
      "text/plain": [
       ":Curve   [k]   (inertia)"
      ]
     },
     "execution_count": 24,
     "metadata": {
      "application/vnd.holoviews_exec.v0+json": {
       "id": "1618"
      }
     },
     "output_type": "execute_result"
    }
   ],
   "source": [
    "# Plot a line chart with all the inertia values computed with \n",
    "# the different values of k to visually identify the optimal value for k.\n",
    "elbow_plot_pca = df_elbow_pca.hvplot.line(x=\"k\", y=\"inertia\", title=\"Elbow Curve Using PCA Data\", xticks=k)\n",
    "elbow_plot_pca"
   ]
  },
  {
   "cell_type": "markdown",
   "metadata": {},
   "source": [
    "**Question:** What is the best value for k when using the PCA data? Does it differ from the best k value found using the original data?\n",
    "\n",
    "**Answer:** Based on this Elbow Curve, it looks like `k=3` is still the correct one."
   ]
  }
 ],
 "metadata": {
  "kernelspec": {
   "display_name": "Python 3 (ipykernel)",
   "language": "python",
   "name": "python3"
  },
  "language_info": {
   "codemirror_mode": {
    "name": "ipython",
    "version": 3
   },
   "file_extension": ".py",
   "mimetype": "text/x-python",
   "name": "python",
   "nbconvert_exporter": "python",
   "pygments_lexer": "ipython3",
   "version": "3.11.4"
  }
 },
 "nbformat": 4,
 "nbformat_minor": 4
}
